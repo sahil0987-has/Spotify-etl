{
 "cells": [
  {
   "cell_type": "code",
   "execution_count": 147,
   "id": "508e92a8",
   "metadata": {},
   "outputs": [
    {
     "name": "stdout",
     "output_type": "stream",
     "text": [
      "3.8.8 (default, Apr 13 2021, 15:08:03) [MSC v.1916 64 bit (AMD64)]\n"
     ]
    }
   ],
   "source": [
    "import sys\n",
    "print(sys.version)"
   ]
  },
  {
   "cell_type": "code",
   "execution_count": 148,
   "id": "6e6efdb5",
   "metadata": {
    "scrolled": true
   },
   "outputs": [
    {
     "name": "stdout",
     "output_type": "stream",
     "text": [
      "Requirement already satisfied: s3fs in c:\\users\\netra\\anaconda3\\lib\\site-packages (2024.6.1)\n",
      "Requirement already satisfied: fsspec==2024.6.1.* in c:\\users\\netra\\anaconda3\\lib\\site-packages (from s3fs) (2024.6.1)\n",
      "Requirement already satisfied: aiobotocore<3.0.0,>=2.5.4 in c:\\users\\netra\\anaconda3\\lib\\site-packages (from s3fs) (2.13.1)\n",
      "Requirement already satisfied: aiohttp!=4.0.0a0,!=4.0.0a1 in c:\\users\\netra\\anaconda3\\lib\\site-packages (from s3fs) (3.9.5)\n",
      "Requirement already satisfied: wrapt<2.0.0,>=1.10.10 in c:\\users\\netra\\anaconda3\\lib\\site-packages (from aiobotocore<3.0.0,>=2.5.4->s3fs) (1.12.1)\n",
      "Requirement already satisfied: aioitertools<1.0.0,>=0.5.1 in c:\\users\\netra\\anaconda3\\lib\\site-packages (from aiobotocore<3.0.0,>=2.5.4->s3fs) (0.11.0)\n",
      "Requirement already satisfied: botocore<1.34.132,>=1.34.70 in c:\\users\\netra\\anaconda3\\lib\\site-packages (from aiobotocore<3.0.0,>=2.5.4->s3fs) (1.34.131)\n",
      "Requirement already satisfied: aiosignal>=1.1.2 in c:\\users\\netra\\anaconda3\\lib\\site-packages (from aiohttp!=4.0.0a0,!=4.0.0a1->s3fs) (1.3.1)\n",
      "Requirement already satisfied: multidict<7.0,>=4.5 in c:\\users\\netra\\anaconda3\\lib\\site-packages (from aiohttp!=4.0.0a0,!=4.0.0a1->s3fs) (6.0.5)\n",
      "Requirement already satisfied: frozenlist>=1.1.1 in c:\\users\\netra\\anaconda3\\lib\\site-packages (from aiohttp!=4.0.0a0,!=4.0.0a1->s3fs) (1.4.1)\n",
      "Requirement already satisfied: async-timeout<5.0,>=4.0 in c:\\users\\netra\\anaconda3\\lib\\site-packages (from aiohttp!=4.0.0a0,!=4.0.0a1->s3fs) (4.0.3)\n",
      "Requirement already satisfied: attrs>=17.3.0 in c:\\users\\netra\\anaconda3\\lib\\site-packages (from aiohttp!=4.0.0a0,!=4.0.0a1->s3fs) (20.3.0)\n",
      "Requirement already satisfied: yarl<2.0,>=1.0 in c:\\users\\netra\\anaconda3\\lib\\site-packages (from aiohttp!=4.0.0a0,!=4.0.0a1->s3fs) (1.9.4)\n",
      "Requirement already satisfied: typing_extensions>=4.0 in c:\\users\\netra\\anaconda3\\lib\\site-packages (from aioitertools<1.0.0,>=0.5.1->aiobotocore<3.0.0,>=2.5.4->s3fs) (4.3.0)\n",
      "Requirement already satisfied: urllib3<1.27,>=1.25.4 in c:\\users\\netra\\anaconda3\\lib\\site-packages (from botocore<1.34.132,>=1.34.70->aiobotocore<3.0.0,>=2.5.4->s3fs) (1.26.4)\n",
      "Requirement already satisfied: jmespath<2.0.0,>=0.7.1 in c:\\users\\netra\\anaconda3\\lib\\site-packages (from botocore<1.34.132,>=1.34.70->aiobotocore<3.0.0,>=2.5.4->s3fs) (1.0.1)\n",
      "Requirement already satisfied: python-dateutil<3.0.0,>=2.1 in c:\\users\\netra\\anaconda3\\lib\\site-packages (from botocore<1.34.132,>=1.34.70->aiobotocore<3.0.0,>=2.5.4->s3fs) (2.8.1)\n",
      "Requirement already satisfied: six>=1.5 in c:\\users\\netra\\anaconda3\\lib\\site-packages (from python-dateutil<3.0.0,>=2.1->botocore<1.34.132,>=1.34.70->aiobotocore<3.0.0,>=2.5.4->s3fs) (1.15.0)\n",
      "Requirement already satisfied: idna>=2.0 in c:\\users\\netra\\anaconda3\\lib\\site-packages (from yarl<2.0,>=1.0->aiohttp!=4.0.0a0,!=4.0.0a1->s3fs) (2.10)\n",
      "Note: you may need to restart the kernel to use updated packages.\n"
     ]
    }
   ],
   "source": [
    "pip install s3fs"
   ]
  },
  {
   "cell_type": "code",
   "execution_count": 149,
   "id": "8cd77f43",
   "metadata": {},
   "outputs": [
    {
     "name": "stdout",
     "output_type": "stream",
     "text": [
      "Requirement already satisfied: spotipy in c:\\users\\netra\\anaconda3\\lib\\site-packages (2.24.0)\n",
      "Requirement already satisfied: redis>=3.5.3 in c:\\users\\netra\\anaconda3\\lib\\site-packages (from spotipy) (5.0.7)\n",
      "Requirement already satisfied: urllib3>=1.26.0 in c:\\users\\netra\\anaconda3\\lib\\site-packages (from spotipy) (1.26.4)\n",
      "Requirement already satisfied: requests>=2.25.0 in c:\\users\\netra\\anaconda3\\lib\\site-packages (from spotipy) (2.32.3)\n",
      "Requirement already satisfied: async-timeout>=4.0.3 in c:\\users\\netra\\anaconda3\\lib\\site-packages (from redis>=3.5.3->spotipy) (4.0.3)\n",
      "Requirement already satisfied: idna<4,>=2.5 in c:\\users\\netra\\anaconda3\\lib\\site-packages (from requests>=2.25.0->spotipy) (2.10)\n",
      "Requirement already satisfied: charset-normalizer<4,>=2 in c:\\users\\netra\\anaconda3\\lib\\site-packages (from requests>=2.25.0->spotipy) (3.3.2)\n",
      "Requirement already satisfied: certifi>=2017.4.17 in c:\\users\\netra\\anaconda3\\lib\\site-packages (from requests>=2.25.0->spotipy) (2020.12.5)\n",
      "Note: you may need to restart the kernel to use updated packages.\n"
     ]
    }
   ],
   "source": [
    "pip install spotipy "
   ]
  },
  {
   "cell_type": "code",
   "execution_count": 150,
   "id": "3a52d45e",
   "metadata": {},
   "outputs": [],
   "source": [
    "import pandas as pd \n",
    "import numpy as np\n",
    "import spotipy\n",
    "from spotipy.oauth2 import SpotifyClientCredentials\n",
    "import s3fs "
   ]
  },
  {
   "cell_type": "code",
   "execution_count": 151,
   "id": "e3e5a454",
   "metadata": {},
   "outputs": [],
   "source": [
    "client_id=\"9ca1ac4600904278ae639dd76749a644\"\n",
    "client_secret=\"1e303b055a8547919350601b0874d331\""
   ]
  },
  {
   "cell_type": "code",
   "execution_count": 152,
   "id": "fd95b22d",
   "metadata": {},
   "outputs": [],
   "source": [
    "client_credentials_manager = SpotifyClientCredentials(client_id = client_id, client_secret =client_secret)"
   ]
  },
  {
   "cell_type": "code",
   "execution_count": 153,
   "id": "cc553bd3",
   "metadata": {},
   "outputs": [],
   "source": [
    "sp = spotipy.Spotify(client_credentials_manager = client_credentials_manager)"
   ]
  },
  {
   "cell_type": "code",
   "execution_count": 154,
   "id": "e563e2c2",
   "metadata": {},
   "outputs": [],
   "source": [
    "playlist_link=\"https://open.spotify.com/playlist/37i9dQZEVXbMWDif5SCBJq\""
   ]
  },
  {
   "cell_type": "code",
   "execution_count": 155,
   "id": "9fd7962c",
   "metadata": {},
   "outputs": [
    {
     "data": {
      "text/plain": [
       "'37i9dQZEVXbMWDif5SCBJq'"
      ]
     },
     "execution_count": 155,
     "metadata": {},
     "output_type": "execute_result"
    }
   ],
   "source": [
    "playlist_link.split(\"/\")[-1]"
   ]
  },
  {
   "cell_type": "code",
   "execution_count": 156,
   "id": "1a429c8f",
   "metadata": {},
   "outputs": [],
   "source": [
    "playlist_uri=pl.split(\"/\")[-1]"
   ]
  },
  {
   "cell_type": "code",
   "execution_count": 157,
   "id": "a9ad8f0f",
   "metadata": {},
   "outputs": [
    {
     "name": "stdout",
     "output_type": "stream",
     "text": [
      "37i9dQZEVXbMWDif5SCBJq\n"
     ]
    }
   ],
   "source": [
    "print(playlist_uri)"
   ]
  },
  {
   "cell_type": "code",
   "execution_count": 158,
   "id": "2ccfa18f",
   "metadata": {},
   "outputs": [],
   "source": [
    "data = sp.playlist_tracks(playlist_uri)"
   ]
  },
  {
   "cell_type": "code",
   "execution_count": 162,
   "id": "477bf8ce",
   "metadata": {},
   "outputs": [],
   "source": [
    "album_list = []\n",
    "for i in data['items']:\n",
    "    album_id = i['track']['album']['id']\n",
    "    album_type=i['track']['album']['album_type']\n",
    "    album_name = i['track']['album']['name']\n",
    "    album_release_date = i['track']['album']['release_date']\n",
    "    album_total_tracks = i['track']['album']['total_tracks']\n",
    "    album_url = i['track']['album']['external_urls']['spotify']\n",
    "    album_element = {'album_id': album_id,'album_type':album_type,'album_name': album_name, 'release_date':album_release_date, 'total_tracks':album_total_tracks, 'url':album_url  }\n",
    "    album_list.append(album_element)\n",
    "    \n",
    "   "
   ]
  },
  {
   "cell_type": "code",
   "execution_count": 163,
   "id": "ac792109",
   "metadata": {},
   "outputs": [],
   "source": [
    "df1=pd.DataFrame.from_dict(album_list)"
   ]
  },
  {
   "cell_type": "code",
   "execution_count": 164,
   "id": "3c78ac36",
   "metadata": {},
   "outputs": [
    {
     "data": {
      "text/html": [
       "<div>\n",
       "<style scoped>\n",
       "    .dataframe tbody tr th:only-of-type {\n",
       "        vertical-align: middle;\n",
       "    }\n",
       "\n",
       "    .dataframe tbody tr th {\n",
       "        vertical-align: top;\n",
       "    }\n",
       "\n",
       "    .dataframe thead th {\n",
       "        text-align: right;\n",
       "    }\n",
       "</style>\n",
       "<table border=\"1\" class=\"dataframe\">\n",
       "  <thead>\n",
       "    <tr style=\"text-align: right;\">\n",
       "      <th></th>\n",
       "      <th>album_id</th>\n",
       "      <th>album_type</th>\n",
       "      <th>album_name</th>\n",
       "      <th>release_date</th>\n",
       "      <th>total_tracks</th>\n",
       "      <th>url</th>\n",
       "    </tr>\n",
       "  </thead>\n",
       "  <tbody>\n",
       "    <tr>\n",
       "      <th>0</th>\n",
       "      <td>3I3kZyHUtEA9Y59rJkxtk6</td>\n",
       "      <td>single</td>\n",
       "      <td>Sajni (From \"Laapataa Ladies\")</td>\n",
       "      <td>2024-02-12</td>\n",
       "      <td>1</td>\n",
       "      <td>https://open.spotify.com/album/3I3kZyHUtEA9Y59...</td>\n",
       "    </tr>\n",
       "    <tr>\n",
       "      <th>1</th>\n",
       "      <td>3PI3er7mHLniPndwdo0mlA</td>\n",
       "      <td>album</td>\n",
       "      <td>Mr. And Mrs. Mahi (Original Motion Picture Sou...</td>\n",
       "      <td>2024-05-24</td>\n",
       "      <td>7</td>\n",
       "      <td>https://open.spotify.com/album/3PI3er7mHLniPnd...</td>\n",
       "    </tr>\n",
       "    <tr>\n",
       "      <th>2</th>\n",
       "      <td>7fDOsfo0KfyUV2crgrG6zR</td>\n",
       "      <td>single</td>\n",
       "      <td>Suniyan Suniyan</td>\n",
       "      <td>2024-04-12</td>\n",
       "      <td>1</td>\n",
       "      <td>https://open.spotify.com/album/7fDOsfo0KfyUV2c...</td>\n",
       "    </tr>\n",
       "    <tr>\n",
       "      <th>3</th>\n",
       "      <td>3vBso6gFPmEwstdMXn3Ahi</td>\n",
       "      <td>single</td>\n",
       "      <td>Soni Soni (From \"Ishq Vishk Rebound\")</td>\n",
       "      <td>2024-05-24</td>\n",
       "      <td>1</td>\n",
       "      <td>https://open.spotify.com/album/3vBso6gFPmEwstd...</td>\n",
       "    </tr>\n",
       "    <tr>\n",
       "      <th>4</th>\n",
       "      <td>4AGLzJHGevDOnuHsQ0gxO5</td>\n",
       "      <td>single</td>\n",
       "      <td>Aasa Kooda (From \"Think Indie\")</td>\n",
       "      <td>2024-06-13</td>\n",
       "      <td>1</td>\n",
       "      <td>https://open.spotify.com/album/4AGLzJHGevDOnuH...</td>\n",
       "    </tr>\n",
       "  </tbody>\n",
       "</table>\n",
       "</div>"
      ],
      "text/plain": [
       "                 album_id album_type  \\\n",
       "0  3I3kZyHUtEA9Y59rJkxtk6     single   \n",
       "1  3PI3er7mHLniPndwdo0mlA      album   \n",
       "2  7fDOsfo0KfyUV2crgrG6zR     single   \n",
       "3  3vBso6gFPmEwstdMXn3Ahi     single   \n",
       "4  4AGLzJHGevDOnuHsQ0gxO5     single   \n",
       "\n",
       "                                          album_name release_date  \\\n",
       "0                     Sajni (From \"Laapataa Ladies\")   2024-02-12   \n",
       "1  Mr. And Mrs. Mahi (Original Motion Picture Sou...   2024-05-24   \n",
       "2                                    Suniyan Suniyan   2024-04-12   \n",
       "3              Soni Soni (From \"Ishq Vishk Rebound\")   2024-05-24   \n",
       "4                    Aasa Kooda (From \"Think Indie\")   2024-06-13   \n",
       "\n",
       "   total_tracks                                                url  \n",
       "0             1  https://open.spotify.com/album/3I3kZyHUtEA9Y59...  \n",
       "1             7  https://open.spotify.com/album/3PI3er7mHLniPnd...  \n",
       "2             1  https://open.spotify.com/album/7fDOsfo0KfyUV2c...  \n",
       "3             1  https://open.spotify.com/album/3vBso6gFPmEwstd...  \n",
       "4             1  https://open.spotify.com/album/4AGLzJHGevDOnuH...  "
      ]
     },
     "execution_count": 164,
     "metadata": {},
     "output_type": "execute_result"
    }
   ],
   "source": [
    "df1.head()"
   ]
  },
  {
   "cell_type": "code",
   "execution_count": 166,
   "id": "0a1ea305",
   "metadata": {},
   "outputs": [],
   "source": [
    "artist_list = []\n",
    "for i in data['items']:\n",
    "    for key,value in i.items():\n",
    "        if key=='track':\n",
    "            for a in value['artists']:\n",
    "                id=a['id']\n",
    "                name=a['name']\n",
    "                type=a['type']\n",
    "                url=a['href']\n",
    "                artist_dict = {'artist_id':id, 'artist_name':name,'external_url':url,'artists_type':type}\n",
    "                artist_list.append(artist_dict)\n",
    "                "
   ]
  },
  {
   "cell_type": "code",
   "execution_count": 167,
   "id": "8c417ddd",
   "metadata": {},
   "outputs": [],
   "source": [
    "df2=pd.DataFrame.from_dict(artist_list)"
   ]
  },
  {
   "cell_type": "code",
   "execution_count": 168,
   "id": "6ef5ae59",
   "metadata": {},
   "outputs": [
    {
     "data": {
      "text/html": [
       "<div>\n",
       "<style scoped>\n",
       "    .dataframe tbody tr th:only-of-type {\n",
       "        vertical-align: middle;\n",
       "    }\n",
       "\n",
       "    .dataframe tbody tr th {\n",
       "        vertical-align: top;\n",
       "    }\n",
       "\n",
       "    .dataframe thead th {\n",
       "        text-align: right;\n",
       "    }\n",
       "</style>\n",
       "<table border=\"1\" class=\"dataframe\">\n",
       "  <thead>\n",
       "    <tr style=\"text-align: right;\">\n",
       "      <th></th>\n",
       "      <th>artist_id</th>\n",
       "      <th>artist_name</th>\n",
       "      <th>external_url</th>\n",
       "      <th>artists_type</th>\n",
       "    </tr>\n",
       "  </thead>\n",
       "  <tbody>\n",
       "    <tr>\n",
       "      <th>0</th>\n",
       "      <td>3PpjqSKBer3obW6lDflOBx</td>\n",
       "      <td>Ram Sampath</td>\n",
       "      <td>https://api.spotify.com/v1/artists/3PpjqSKBer3...</td>\n",
       "      <td>artist</td>\n",
       "    </tr>\n",
       "    <tr>\n",
       "      <th>1</th>\n",
       "      <td>4YRxDV8wJFPHPTeXepOstw</td>\n",
       "      <td>Arijit Singh</td>\n",
       "      <td>https://api.spotify.com/v1/artists/4YRxDV8wJFP...</td>\n",
       "      <td>artist</td>\n",
       "    </tr>\n",
       "    <tr>\n",
       "      <th>2</th>\n",
       "      <td>7vCsTTACb2iT4fvBMnwp5w</td>\n",
       "      <td>Prashant Pandey</td>\n",
       "      <td>https://api.spotify.com/v1/artists/7vCsTTACb2i...</td>\n",
       "      <td>artist</td>\n",
       "    </tr>\n",
       "    <tr>\n",
       "      <th>3</th>\n",
       "      <td>4xNgNFUMUuGCoy7IX74Y60</td>\n",
       "      <td>Mohammad Faiz</td>\n",
       "      <td>https://api.spotify.com/v1/artists/4xNgNFUMUuG...</td>\n",
       "      <td>artist</td>\n",
       "    </tr>\n",
       "    <tr>\n",
       "      <th>4</th>\n",
       "      <td>5gZhfbckaWo89OzDSk3gdT</td>\n",
       "      <td>Jaani</td>\n",
       "      <td>https://api.spotify.com/v1/artists/5gZhfbckaWo...</td>\n",
       "      <td>artist</td>\n",
       "    </tr>\n",
       "    <tr>\n",
       "      <th>...</th>\n",
       "      <td>...</td>\n",
       "      <td>...</td>\n",
       "      <td>...</td>\n",
       "      <td>...</td>\n",
       "    </tr>\n",
       "    <tr>\n",
       "      <th>109</th>\n",
       "      <td>1wRPtKGflJrBx9BmLsSwlU</td>\n",
       "      <td>Pritam</td>\n",
       "      <td>https://api.spotify.com/v1/artists/1wRPtKGflJr...</td>\n",
       "      <td>artist</td>\n",
       "    </tr>\n",
       "    <tr>\n",
       "      <th>110</th>\n",
       "      <td>1mBydYMVBECdDmMfE2sEUO</td>\n",
       "      <td>Sachin-Jigar</td>\n",
       "      <td>https://api.spotify.com/v1/artists/1mBydYMVBEC...</td>\n",
       "      <td>artist</td>\n",
       "    </tr>\n",
       "    <tr>\n",
       "      <th>111</th>\n",
       "      <td>0mJDQBWytBhOh5JB1DOQ1c</td>\n",
       "      <td>Jasmine Sandlas</td>\n",
       "      <td>https://api.spotify.com/v1/artists/0mJDQBWytBh...</td>\n",
       "      <td>artist</td>\n",
       "    </tr>\n",
       "    <tr>\n",
       "      <th>112</th>\n",
       "      <td>2fMqTqiTxUDlmcOEPaQSsx</td>\n",
       "      <td>Amitabh Bhattacharya</td>\n",
       "      <td>https://api.spotify.com/v1/artists/2fMqTqiTxUD...</td>\n",
       "      <td>artist</td>\n",
       "    </tr>\n",
       "    <tr>\n",
       "      <th>113</th>\n",
       "      <td>5jJrJU7VVmxQQLcLAmmxXc</td>\n",
       "      <td>Sai Abhyankkar</td>\n",
       "      <td>https://api.spotify.com/v1/artists/5jJrJU7VVmx...</td>\n",
       "      <td>artist</td>\n",
       "    </tr>\n",
       "  </tbody>\n",
       "</table>\n",
       "<p>114 rows × 4 columns</p>\n",
       "</div>"
      ],
      "text/plain": [
       "                  artist_id           artist_name  \\\n",
       "0    3PpjqSKBer3obW6lDflOBx           Ram Sampath   \n",
       "1    4YRxDV8wJFPHPTeXepOstw          Arijit Singh   \n",
       "2    7vCsTTACb2iT4fvBMnwp5w       Prashant Pandey   \n",
       "3    4xNgNFUMUuGCoy7IX74Y60         Mohammad Faiz   \n",
       "4    5gZhfbckaWo89OzDSk3gdT                 Jaani   \n",
       "..                      ...                   ...   \n",
       "109  1wRPtKGflJrBx9BmLsSwlU                Pritam   \n",
       "110  1mBydYMVBECdDmMfE2sEUO          Sachin-Jigar   \n",
       "111  0mJDQBWytBhOh5JB1DOQ1c       Jasmine Sandlas   \n",
       "112  2fMqTqiTxUDlmcOEPaQSsx  Amitabh Bhattacharya   \n",
       "113  5jJrJU7VVmxQQLcLAmmxXc        Sai Abhyankkar   \n",
       "\n",
       "                                          external_url artists_type  \n",
       "0    https://api.spotify.com/v1/artists/3PpjqSKBer3...       artist  \n",
       "1    https://api.spotify.com/v1/artists/4YRxDV8wJFP...       artist  \n",
       "2    https://api.spotify.com/v1/artists/7vCsTTACb2i...       artist  \n",
       "3    https://api.spotify.com/v1/artists/4xNgNFUMUuG...       artist  \n",
       "4    https://api.spotify.com/v1/artists/5gZhfbckaWo...       artist  \n",
       "..                                                 ...          ...  \n",
       "109  https://api.spotify.com/v1/artists/1wRPtKGflJr...       artist  \n",
       "110  https://api.spotify.com/v1/artists/1mBydYMVBEC...       artist  \n",
       "111  https://api.spotify.com/v1/artists/0mJDQBWytBh...       artist  \n",
       "112  https://api.spotify.com/v1/artists/2fMqTqiTxUD...       artist  \n",
       "113  https://api.spotify.com/v1/artists/5jJrJU7VVmx...       artist  \n",
       "\n",
       "[114 rows x 4 columns]"
      ]
     },
     "execution_count": 168,
     "metadata": {},
     "output_type": "execute_result"
    }
   ],
   "source": [
    "df2"
   ]
  },
  {
   "cell_type": "code",
   "execution_count": 169,
   "id": "6654623d",
   "metadata": {},
   "outputs": [],
   "source": [
    "song_list = []\n",
    "for row in data['items']:\n",
    "    song_id = row['track']['id']\n",
    "    song_name = row['track']['name']\n",
    "    song_duration = row['track']['duration_ms']\n",
    "    song_url = row['track']['external_urls']['spotify']\n",
    "    song_popularity = row['track']['popularity']\n",
    "    song_added = row['added_at']\n",
    "    album_id = row['track']['album']['id']\n",
    "    artist_id = row['track']['album']['artists'][0]['id']\n",
    "    song_element = {'song_id':song_id , 'song_name':song_name, 'duration_ms':song_duration, 'url': song_url, 'popularity':song_popularity, 'song_added':song_added, 'album_id':album_id, 'artist_id':artist_id}\n",
    "    song_list.append(song_element)"
   ]
  },
  {
   "cell_type": "code",
   "execution_count": 170,
   "id": "db237147",
   "metadata": {},
   "outputs": [],
   "source": [
    "df3=pd.DataFrame.from_dict(song_list)"
   ]
  },
  {
   "cell_type": "code",
   "execution_count": 171,
   "id": "3010a8b7",
   "metadata": {},
   "outputs": [
    {
     "data": {
      "text/html": [
       "<div>\n",
       "<style scoped>\n",
       "    .dataframe tbody tr th:only-of-type {\n",
       "        vertical-align: middle;\n",
       "    }\n",
       "\n",
       "    .dataframe tbody tr th {\n",
       "        vertical-align: top;\n",
       "    }\n",
       "\n",
       "    .dataframe thead th {\n",
       "        text-align: right;\n",
       "    }\n",
       "</style>\n",
       "<table border=\"1\" class=\"dataframe\">\n",
       "  <thead>\n",
       "    <tr style=\"text-align: right;\">\n",
       "      <th></th>\n",
       "      <th>song_id</th>\n",
       "      <th>song_name</th>\n",
       "      <th>duration_ms</th>\n",
       "      <th>url</th>\n",
       "      <th>popularity</th>\n",
       "      <th>song_added</th>\n",
       "      <th>album_id</th>\n",
       "      <th>artist_id</th>\n",
       "    </tr>\n",
       "  </thead>\n",
       "  <tbody>\n",
       "    <tr>\n",
       "      <th>0</th>\n",
       "      <td>5zCnGtCl5Ac5zlFHXaZmhy</td>\n",
       "      <td>Sajni (From \"Laapataa Ladies\")</td>\n",
       "      <td>170044</td>\n",
       "      <td>https://open.spotify.com/track/5zCnGtCl5Ac5zlF...</td>\n",
       "      <td>83</td>\n",
       "      <td>2024-07-05T10:57:40Z</td>\n",
       "      <td>3I3kZyHUtEA9Y59rJkxtk6</td>\n",
       "      <td>3PpjqSKBer3obW6lDflOBx</td>\n",
       "    </tr>\n",
       "    <tr>\n",
       "      <th>1</th>\n",
       "      <td>1r6GbBLdtUK1Vl1IHT14wP</td>\n",
       "      <td>Dekhha Tenu (From \"Mr. And Mrs. Mahi\")</td>\n",
       "      <td>281511</td>\n",
       "      <td>https://open.spotify.com/track/1r6GbBLdtUK1Vl1...</td>\n",
       "      <td>63</td>\n",
       "      <td>2024-07-05T10:57:40Z</td>\n",
       "      <td>3PI3er7mHLniPndwdo0mlA</td>\n",
       "      <td>4f7KfxeHq9BiylGmyXepGt</td>\n",
       "    </tr>\n",
       "    <tr>\n",
       "      <th>2</th>\n",
       "      <td>0XRb6eZE4dBIJdqwf1Mixu</td>\n",
       "      <td>Suniyan Suniyan</td>\n",
       "      <td>197538</td>\n",
       "      <td>https://open.spotify.com/track/0XRb6eZE4dBIJdq...</td>\n",
       "      <td>76</td>\n",
       "      <td>2024-07-05T10:57:40Z</td>\n",
       "      <td>7fDOsfo0KfyUV2crgrG6zR</td>\n",
       "      <td>5Z8nzSJRSo4HRcUOzemnC1</td>\n",
       "    </tr>\n",
       "    <tr>\n",
       "      <th>3</th>\n",
       "      <td>36N5awamOX6XX5pQn3aFXZ</td>\n",
       "      <td>Soni Soni (From \"Ishq Vishk Rebound\")</td>\n",
       "      <td>176875</td>\n",
       "      <td>https://open.spotify.com/track/36N5awamOX6XX5p...</td>\n",
       "      <td>77</td>\n",
       "      <td>2024-07-05T10:57:40Z</td>\n",
       "      <td>3vBso6gFPmEwstdMXn3Ahi</td>\n",
       "      <td>2GoeZ0qOTt6kjsWW4eA6LS</td>\n",
       "    </tr>\n",
       "    <tr>\n",
       "      <th>4</th>\n",
       "      <td>0MTdYgTZ25sLCO6kVnDoje</td>\n",
       "      <td>Aasa Kooda - From \"Think Indie\"</td>\n",
       "      <td>215510</td>\n",
       "      <td>https://open.spotify.com/track/0MTdYgTZ25sLCO6...</td>\n",
       "      <td>73</td>\n",
       "      <td>2024-07-05T10:57:40Z</td>\n",
       "      <td>4AGLzJHGevDOnuHsQ0gxO5</td>\n",
       "      <td>5jJrJU7VVmxQQLcLAmmxXc</td>\n",
       "    </tr>\n",
       "  </tbody>\n",
       "</table>\n",
       "</div>"
      ],
      "text/plain": [
       "                  song_id                               song_name  \\\n",
       "0  5zCnGtCl5Ac5zlFHXaZmhy          Sajni (From \"Laapataa Ladies\")   \n",
       "1  1r6GbBLdtUK1Vl1IHT14wP  Dekhha Tenu (From \"Mr. And Mrs. Mahi\")   \n",
       "2  0XRb6eZE4dBIJdqwf1Mixu                         Suniyan Suniyan   \n",
       "3  36N5awamOX6XX5pQn3aFXZ   Soni Soni (From \"Ishq Vishk Rebound\")   \n",
       "4  0MTdYgTZ25sLCO6kVnDoje         Aasa Kooda - From \"Think Indie\"   \n",
       "\n",
       "   duration_ms                                                url  popularity  \\\n",
       "0       170044  https://open.spotify.com/track/5zCnGtCl5Ac5zlF...          83   \n",
       "1       281511  https://open.spotify.com/track/1r6GbBLdtUK1Vl1...          63   \n",
       "2       197538  https://open.spotify.com/track/0XRb6eZE4dBIJdq...          76   \n",
       "3       176875  https://open.spotify.com/track/36N5awamOX6XX5p...          77   \n",
       "4       215510  https://open.spotify.com/track/0MTdYgTZ25sLCO6...          73   \n",
       "\n",
       "             song_added                album_id               artist_id  \n",
       "0  2024-07-05T10:57:40Z  3I3kZyHUtEA9Y59rJkxtk6  3PpjqSKBer3obW6lDflOBx  \n",
       "1  2024-07-05T10:57:40Z  3PI3er7mHLniPndwdo0mlA  4f7KfxeHq9BiylGmyXepGt  \n",
       "2  2024-07-05T10:57:40Z  7fDOsfo0KfyUV2crgrG6zR  5Z8nzSJRSo4HRcUOzemnC1  \n",
       "3  2024-07-05T10:57:40Z  3vBso6gFPmEwstdMXn3Ahi  2GoeZ0qOTt6kjsWW4eA6LS  \n",
       "4  2024-07-05T10:57:40Z  4AGLzJHGevDOnuHsQ0gxO5  5jJrJU7VVmxQQLcLAmmxXc  "
      ]
     },
     "execution_count": 171,
     "metadata": {},
     "output_type": "execute_result"
    }
   ],
   "source": [
    "df3.head()"
   ]
  },
  {
   "cell_type": "code",
   "execution_count": null,
   "id": "1d58f408",
   "metadata": {},
   "outputs": [],
   "source": []
  },
  {
   "cell_type": "code",
   "execution_count": null,
   "id": "b2ac428d",
   "metadata": {},
   "outputs": [],
   "source": []
  }
 ],
 "metadata": {
  "kernelspec": {
   "display_name": "Python 3",
   "language": "python",
   "name": "python3"
  },
  "language_info": {
   "codemirror_mode": {
    "name": "ipython",
    "version": 3
   },
   "file_extension": ".py",
   "mimetype": "text/x-python",
   "name": "python",
   "nbconvert_exporter": "python",
   "pygments_lexer": "ipython3",
   "version": "3.8.8"
  }
 },
 "nbformat": 4,
 "nbformat_minor": 5
}
